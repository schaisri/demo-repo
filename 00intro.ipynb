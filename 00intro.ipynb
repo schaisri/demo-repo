{
  "cells": [
    {
      "metadata": {
        "trusted": true
      },
      "cell_type": "code",
      "source": "import math",
      "execution_count": 1,
      "outputs": []
    },
    {
      "metadata": {
        "trusted": true
      },
      "cell_type": "code",
      "source": "print(math.exp(2))",
      "execution_count": 2,
      "outputs": [
        {
          "output_type": "stream",
          "text": "7.38905609893065\n",
          "name": "stdout"
        }
      ]
    },
    {
      "metadata": {},
      "cell_type": "markdown",
      "source": "${e^x} \\approx \\sum\\limits_{n = 0}^\\infty{\\frac{{{x^n}}}{{n!}}} \\approx 1 + x + \\frac{{{x^2}}}{{2!}} + \\frac{{{x^3}}}{{3!}} + \\frac{{{x^4}}}{{4!}} \\ + \\ ...$"
    },
    {
      "metadata": {},
      "cell_type": "markdown",
      "source": "calculating ${e^x}$ when ${x=2}$"
    },
    {
      "metadata": {
        "trusted": true
      },
      "cell_type": "code",
      "source": "x = 2",
      "execution_count": 3,
      "outputs": []
    },
    {
      "metadata": {
        "trusted": true
      },
      "cell_type": "code",
      "source": "ex1 = x**0/math.factorial(0) + x**1/math.factorial(1) + x**2/math.factorial(2) + x**3/math.factorial(3) + x**4/math.factorial(4)",
      "execution_count": 4,
      "outputs": []
    },
    {
      "metadata": {
        "trusted": true
      },
      "cell_type": "code",
      "source": "print(ex1)",
      "execution_count": 5,
      "outputs": [
        {
          "output_type": "stream",
          "text": "7.0\n",
          "name": "stdout"
        }
      ]
    },
    {
      "metadata": {},
      "cell_type": "markdown",
      "source": "hsdhglksjdksdjlkds"
    },
    {
      "metadata": {},
      "cell_type": "markdown",
      "source": "Use a for loop to calculate a Taylor Series"
    },
    {
      "metadata": {
        "trusted": true
      },
      "cell_type": "code",
      "source": "import math\n\nx = 2\nex2 = 0\nfor n in range(5):\n    ex2 += x**n/math.factorial(n)\n    \nprint(ex2)",
      "execution_count": 7,
      "outputs": [
        {
          "output_type": "stream",
          "text": "7.0\n",
          "name": "stdout"
        }
      ]
    },
    {
      "metadata": {},
      "cell_type": "markdown",
      "source": "As a function"
    },
    {
      "metadata": {
        "trusted": true
      },
      "cell_type": "code",
      "source": "import math\n\ndef func_ex(x,n):\n    # exp(x) with nth terms\n    # n must not equal to zero\n    e_approx = 0\n    for i in range(n):\n        e_approx += x**i/math.factorial(i)\n    return e_approx",
      "execution_count": 9,
      "outputs": []
    },
    {
      "metadata": {},
      "cell_type": "markdown",
      "source": "Calculate ${e^x}$ using 10 terms with new func_ex(x,n) function"
    },
    {
      "metadata": {
        "trusted": true
      },
      "cell_type": "code",
      "source": "out = func_ex(2,10)\nprint(out)",
      "execution_count": 14,
      "outputs": [
        {
          "output_type": "stream",
          "text": "7.3887125220458545\n",
          "name": "stdout"
        }
      ]
    },
    {
      "metadata": {
        "trusted": true
      },
      "cell_type": "code",
      "source": "print(math.exp(2))",
      "execution_count": 15,
      "outputs": [
        {
          "output_type": "stream",
          "text": "7.38905609893065\n",
          "name": "stdout"
        }
      ]
    },
    {
      "metadata": {},
      "cell_type": "markdown",
      "source": "Use a for loop to calculate the difference between the Taylor Series expansion and Python's exp() function, "
    },
    {
      "metadata": {
        "trusted": true
      },
      "cell_type": "code",
      "source": "import math\n\nx = 2\n\nfor i in range(1,15):\n    e_approx = func_ex(x,i)\n    e_exp = math.exp(x)\n    e_error = abs(e_approx - e_exp)\n    print(f'{i:2} terms: Taylor-Series-approx={e_approx:20}, exp(x)={e_exp}, error={e_error}')",
      "execution_count": 21,
      "outputs": [
        {
          "output_type": "stream",
          "text": " 1 terms: Taylor-Series-approx=                 1.0, exp(x)=7.38905609893065, error=6.38905609893065\n 2 terms: Taylor-Series-approx=                 3.0, exp(x)=7.38905609893065, error=4.38905609893065\n 3 terms: Taylor-Series-approx=                 5.0, exp(x)=7.38905609893065, error=2.3890560989306504\n 4 terms: Taylor-Series-approx=   6.333333333333333, exp(x)=7.38905609893065, error=1.0557227655973174\n 5 terms: Taylor-Series-approx=                 7.0, exp(x)=7.38905609893065, error=0.3890560989306504\n 6 terms: Taylor-Series-approx=   7.266666666666667, exp(x)=7.38905609893065, error=0.1223894322639838\n 7 terms: Taylor-Series-approx=   7.355555555555555, exp(x)=7.38905609893065, error=0.033500543375095226\n 8 terms: Taylor-Series-approx=  7.3809523809523805, exp(x)=7.38905609893065, error=0.00810371797826992\n 9 terms: Taylor-Series-approx=   7.387301587301587, exp(x)=7.38905609893065, error=0.0017545116290635931\n10 terms: Taylor-Series-approx=  7.3887125220458545, exp(x)=7.38905609893065, error=0.0003435768847959153\n11 terms: Taylor-Series-approx=   7.388994708994708, exp(x)=7.38905609893065, error=6.138993594273501e-05\n12 terms: Taylor-Series-approx=   7.389046015712681, exp(x)=7.38905609893065, error=1.0083217969025782e-05\n13 terms: Taylor-Series-approx=  7.3890545668323435, exp(x)=7.38905609893065, error=1.5320983068889404e-06\n14 terms: Taylor-Series-approx=   7.389055882389215, exp(x)=7.38905609893065, error=2.1654143544935778e-07\n",
          "name": "stdout"
        }
      ]
    },
    {
      "metadata": {
        "trusted": true
      },
      "cell_type": "code",
      "source": "",
      "execution_count": null,
      "outputs": []
    }
  ],
  "metadata": {
    "kernelspec": {
      "name": "python36",
      "display_name": "Python 3.6",
      "language": "python"
    },
    "language_info": {
      "mimetype": "text/x-python",
      "nbconvert_exporter": "python",
      "name": "python",
      "pygments_lexer": "ipython3",
      "version": "3.6.6",
      "file_extension": ".py",
      "codemirror_mode": {
        "version": 3,
        "name": "ipython"
      }
    }
  },
  "nbformat": 4,
  "nbformat_minor": 1
}