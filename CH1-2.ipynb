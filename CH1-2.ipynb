{
  "cells": [
    {
      "metadata": {},
      "cell_type": "markdown",
      "source": "name stu ID"
    },
    {
      "metadata": {
        "trusted": true
      },
      "cell_type": "code",
      "source": "from scipy import *\nimport matplotlib.pyplot as plt\nimport numpy as np\n\n%matplotlib inline\n%config InlineBackend.figure_format = 'retina'\n\nfrom ipywidgets import interact, interactive, fixed, interact_manual\nimport ipywidgets as widgets",
      "execution_count": null,
      "outputs": []
    },
    {
      "metadata": {
        "trusted": true
      },
      "cell_type": "code",
      "source": "def ftest(freq,dT):\n    #freq  Hz, signal frequency\n    #dT =sampling interval in msec\n    dt=dT/1000\n    twindows=0.3\n    t = np.arange(0, twindows + dt, dt)  # sample interval, symmetric for convenience later\n    y = sin(2 * pi * freq * t)\n    #snum=500\n    #dt2=(max(t)-min(t))/snum\n    #tp=np.arange(min(t), max(t), dt2)\n    tp = np.hstack([linspace(t[i], t[i + 1], 50, False) for i in range(len(t) - 1)])\n    y_hat = np.hstack([linspace(y[i], y[i + 1], 50, False) for i in range(len(y) - 1)])\n    y2 = sin(2 * pi * freq * tp)\n    #compute residual\n    sqe = (y_hat-y2)\n    sqe2=sqe**2\n    #MSE compute Mean squared error\n    MSE=np.sum(sqe2)/len(sqe)  \n    numberofpoints=1/(freq*dt)            \n    \n    fig = plt.figure() \n    ax1=plt.subplot2grid((3,1),(0,0),rowspan=2)\n    ax2=plt.subplot2grid((3,1),(2,0))\n    #fig, ((ax1, ax2)) = plt.subplots(nrows=2, ncols=1)\n    fig.set_size_inches(15,5)\n    #ax1.set_size_inches(11,2.5)\n    ax1.plot(t, y,'o-',tp, y2,'--',linewidth=0.75)\n    plt.text(0.22,3.1,'number of sampling points=%1.1f in one period' %numberofpoints)\n    ax1.set(xlabel=' ',ylabel='Amplitude')\n    ax1.set_xlim(0,twindows)\n    ax1.set_ylim(-1.3,1.3)\n    plt.text(0.3,-1.8,'Mean squared error=%1.4f' %MSE)\n    ax2.plot(tp, sqe,'r')\n    ax2.set(xlabel='time',ylabel='err')\n    ax2.set_ylim(-2,2)\n    ax2.set_xlim(0,twindows)\n    \n    \n#ftest(1,5)\ninteract(ftest, freq=(1,100),dT=(1,100,1))",
      "execution_count": null,
      "outputs": []
    },
    {
      "metadata": {
        "trusted": true
      },
      "cell_type": "code",
      "source": "",
      "execution_count": null,
      "outputs": []
    }
  ],
  "metadata": {
    "kernelspec": {
      "name": "python36",
      "display_name": "Python 3.6",
      "language": "python"
    },
    "language_info": {
      "mimetype": "text/x-python",
      "nbconvert_exporter": "python",
      "name": "python",
      "pygments_lexer": "ipython3",
      "version": "3.6.6",
      "file_extension": ".py",
      "codemirror_mode": {
        "version": 3,
        "name": "ipython"
      }
    }
  },
  "nbformat": 4,
  "nbformat_minor": 2
}